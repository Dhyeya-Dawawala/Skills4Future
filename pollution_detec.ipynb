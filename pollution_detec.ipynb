{
 "cells": [
  {
   "cell_type": "code",
   "execution_count": 5,
   "id": "367b0618",
   "metadata": {},
   "outputs": [
    {
     "name": "stdout",
     "output_type": "stream",
     "text": [
      "Collecting seaborn\n",
      "  Downloading seaborn-0.13.2-py3-none-any.whl.metadata (5.4 kB)\n",
      "Requirement already satisfied: numpy!=1.24.0,>=1.20 in c:\\users\\purvanshu\\appdata\\roaming\\python\\python311\\site-packages (from seaborn) (1.26.4)\n",
      "Requirement already satisfied: pandas>=1.2 in c:\\users\\purvanshu\\appdata\\local\\programs\\python\\python311\\lib\\site-packages (from seaborn) (2.2.3)\n",
      "Requirement already satisfied: matplotlib!=3.6.1,>=3.4 in c:\\users\\purvanshu\\appdata\\roaming\\python\\python311\\site-packages (from seaborn) (3.10.1)\n",
      "Requirement already satisfied: contourpy>=1.0.1 in c:\\users\\purvanshu\\appdata\\roaming\\python\\python311\\site-packages (from matplotlib!=3.6.1,>=3.4->seaborn) (1.3.1)\n",
      "Requirement already satisfied: cycler>=0.10 in c:\\users\\purvanshu\\appdata\\roaming\\python\\python311\\site-packages (from matplotlib!=3.6.1,>=3.4->seaborn) (0.12.1)\n",
      "Requirement already satisfied: fonttools>=4.22.0 in c:\\users\\purvanshu\\appdata\\roaming\\python\\python311\\site-packages (from matplotlib!=3.6.1,>=3.4->seaborn) (4.56.0)\n",
      "Requirement already satisfied: kiwisolver>=1.3.1 in c:\\users\\purvanshu\\appdata\\roaming\\python\\python311\\site-packages (from matplotlib!=3.6.1,>=3.4->seaborn) (1.4.8)\n",
      "Requirement already satisfied: packaging>=20.0 in c:\\users\\purvanshu\\appdata\\local\\programs\\python\\python311\\lib\\site-packages (from matplotlib!=3.6.1,>=3.4->seaborn) (24.2)\n",
      "Requirement already satisfied: pillow>=8 in c:\\users\\purvanshu\\appdata\\roaming\\python\\python311\\site-packages (from matplotlib!=3.6.1,>=3.4->seaborn) (11.1.0)\n",
      "Requirement already satisfied: pyparsing>=2.3.1 in c:\\users\\purvanshu\\appdata\\roaming\\python\\python311\\site-packages (from matplotlib!=3.6.1,>=3.4->seaborn) (3.2.1)\n",
      "Requirement already satisfied: python-dateutil>=2.7 in c:\\users\\purvanshu\\appdata\\roaming\\python\\python311\\site-packages (from matplotlib!=3.6.1,>=3.4->seaborn) (2.9.0.post0)\n",
      "Requirement already satisfied: pytz>=2020.1 in c:\\users\\purvanshu\\appdata\\local\\programs\\python\\python311\\lib\\site-packages (from pandas>=1.2->seaborn) (2025.2)\n",
      "Requirement already satisfied: tzdata>=2022.7 in c:\\users\\purvanshu\\appdata\\local\\programs\\python\\python311\\lib\\site-packages (from pandas>=1.2->seaborn) (2025.2)\n",
      "Requirement already satisfied: six>=1.5 in c:\\users\\purvanshu\\appdata\\local\\programs\\python\\python311\\lib\\site-packages (from python-dateutil>=2.7->matplotlib!=3.6.1,>=3.4->seaborn) (1.17.0)\n",
      "Downloading seaborn-0.13.2-py3-none-any.whl (294 kB)\n",
      "Installing collected packages: seaborn\n",
      "Successfully installed seaborn-0.13.2\n",
      "Note: you may need to restart the kernel to use updated packages.\n"
     ]
    },
    {
     "name": "stderr",
     "output_type": "stream",
     "text": [
      "\n",
      "[notice] A new release of pip is available: 25.0.1 -> 25.1.1\n",
      "[notice] To update, run: python.exe -m pip install --upgrade pip\n"
     ]
    }
   ],
   "source": [
    "pip install seaborn\n"
   ]
  },
  {
   "cell_type": "code",
   "execution_count": 6,
   "id": "a426b03e",
   "metadata": {},
   "outputs": [
    {
     "name": "stdout",
     "output_type": "stream",
     "text": [
      "New dataset loaded successfully.\n",
      "\n",
      "Dataset Info:\n",
      "<class 'pandas.core.frame.DataFrame'>\n",
      "RangeIndex: 23463 entries, 0 to 23462\n",
      "Data columns (total 13 columns):\n",
      " #   Column              Non-Null Count  Dtype \n",
      "---  ------              --------------  ----- \n",
      " 0   Country             23036 non-null  object\n",
      " 1   City                23463 non-null  object\n",
      " 2   AQI Value           23463 non-null  int64 \n",
      " 3   AQI Category        23463 non-null  object\n",
      " 4   CO AQI Value        23463 non-null  int64 \n",
      " 5   CO AQI Category     23463 non-null  object\n",
      " 6   Ozone AQI Value     23463 non-null  int64 \n",
      " 7   Ozone AQI Category  23463 non-null  object\n",
      " 8   NO2 AQI Value       23463 non-null  int64 \n",
      " 9   NO2 AQI Category    23463 non-null  object\n",
      " 10  PM2.5 AQI Value     23463 non-null  int64 \n",
      " 11  PM2.5 AQI Category  23463 non-null  object\n",
      " 12  newCountry          23463 non-null  object\n",
      "dtypes: int64(5), object(8)\n",
      "memory usage: 2.3+ MB\n",
      "\n",
      "First 5 rows:\n"
     ]
    },
    {
     "data": {
      "text/html": [
       "<div>\n",
       "<style scoped>\n",
       "    .dataframe tbody tr th:only-of-type {\n",
       "        vertical-align: middle;\n",
       "    }\n",
       "\n",
       "    .dataframe tbody tr th {\n",
       "        vertical-align: top;\n",
       "    }\n",
       "\n",
       "    .dataframe thead th {\n",
       "        text-align: right;\n",
       "    }\n",
       "</style>\n",
       "<table border=\"1\" class=\"dataframe\">\n",
       "  <thead>\n",
       "    <tr style=\"text-align: right;\">\n",
       "      <th></th>\n",
       "      <th>Country</th>\n",
       "      <th>City</th>\n",
       "      <th>AQI Value</th>\n",
       "      <th>AQI Category</th>\n",
       "      <th>CO AQI Value</th>\n",
       "      <th>CO AQI Category</th>\n",
       "      <th>Ozone AQI Value</th>\n",
       "      <th>Ozone AQI Category</th>\n",
       "      <th>NO2 AQI Value</th>\n",
       "      <th>NO2 AQI Category</th>\n",
       "      <th>PM2.5 AQI Value</th>\n",
       "      <th>PM2.5 AQI Category</th>\n",
       "      <th>newCountry</th>\n",
       "    </tr>\n",
       "  </thead>\n",
       "  <tbody>\n",
       "    <tr>\n",
       "      <th>0</th>\n",
       "      <td>Russian Federation</td>\n",
       "      <td>Praskoveya</td>\n",
       "      <td>51</td>\n",
       "      <td>Moderate</td>\n",
       "      <td>1</td>\n",
       "      <td>Good</td>\n",
       "      <td>36</td>\n",
       "      <td>Good</td>\n",
       "      <td>0</td>\n",
       "      <td>Good</td>\n",
       "      <td>51</td>\n",
       "      <td>Moderate</td>\n",
       "      <td>Russian Federation</td>\n",
       "    </tr>\n",
       "    <tr>\n",
       "      <th>1</th>\n",
       "      <td>Brazil</td>\n",
       "      <td>Presidente Dutra</td>\n",
       "      <td>41</td>\n",
       "      <td>Good</td>\n",
       "      <td>1</td>\n",
       "      <td>Good</td>\n",
       "      <td>5</td>\n",
       "      <td>Good</td>\n",
       "      <td>1</td>\n",
       "      <td>Good</td>\n",
       "      <td>41</td>\n",
       "      <td>Good</td>\n",
       "      <td>Brazil</td>\n",
       "    </tr>\n",
       "    <tr>\n",
       "      <th>2</th>\n",
       "      <td>Italy</td>\n",
       "      <td>Priolo Gargallo</td>\n",
       "      <td>66</td>\n",
       "      <td>Moderate</td>\n",
       "      <td>1</td>\n",
       "      <td>Good</td>\n",
       "      <td>39</td>\n",
       "      <td>Good</td>\n",
       "      <td>2</td>\n",
       "      <td>Good</td>\n",
       "      <td>66</td>\n",
       "      <td>Moderate</td>\n",
       "      <td>Italy</td>\n",
       "    </tr>\n",
       "    <tr>\n",
       "      <th>3</th>\n",
       "      <td>Poland</td>\n",
       "      <td>Przasnysz</td>\n",
       "      <td>34</td>\n",
       "      <td>Good</td>\n",
       "      <td>1</td>\n",
       "      <td>Good</td>\n",
       "      <td>34</td>\n",
       "      <td>Good</td>\n",
       "      <td>0</td>\n",
       "      <td>Good</td>\n",
       "      <td>20</td>\n",
       "      <td>Good</td>\n",
       "      <td>Poland</td>\n",
       "    </tr>\n",
       "    <tr>\n",
       "      <th>4</th>\n",
       "      <td>France</td>\n",
       "      <td>Punaauia</td>\n",
       "      <td>22</td>\n",
       "      <td>Good</td>\n",
       "      <td>0</td>\n",
       "      <td>Good</td>\n",
       "      <td>22</td>\n",
       "      <td>Good</td>\n",
       "      <td>0</td>\n",
       "      <td>Good</td>\n",
       "      <td>6</td>\n",
       "      <td>Good</td>\n",
       "      <td>France</td>\n",
       "    </tr>\n",
       "  </tbody>\n",
       "</table>\n",
       "</div>"
      ],
      "text/plain": [
       "              Country              City  AQI Value AQI Category  CO AQI Value  \\\n",
       "0  Russian Federation        Praskoveya         51     Moderate             1   \n",
       "1              Brazil  Presidente Dutra         41         Good             1   \n",
       "2               Italy   Priolo Gargallo         66     Moderate             1   \n",
       "3              Poland         Przasnysz         34         Good             1   \n",
       "4              France          Punaauia         22         Good             0   \n",
       "\n",
       "  CO AQI Category  Ozone AQI Value Ozone AQI Category  NO2 AQI Value  \\\n",
       "0            Good               36               Good              0   \n",
       "1            Good                5               Good              1   \n",
       "2            Good               39               Good              2   \n",
       "3            Good               34               Good              0   \n",
       "4            Good               22               Good              0   \n",
       "\n",
       "  NO2 AQI Category  PM2.5 AQI Value PM2.5 AQI Category          newCountry  \n",
       "0             Good               51           Moderate  Russian Federation  \n",
       "1             Good               41               Good              Brazil  \n",
       "2             Good               66           Moderate               Italy  \n",
       "3             Good               20               Good              Poland  \n",
       "4             Good                6               Good              France  "
      ]
     },
     "execution_count": 6,
     "metadata": {},
     "output_type": "execute_result"
    }
   ],
   "source": [
    "# Cell 1: Load and Inspect the New Dataset\n",
    "import pandas as pd\n",
    "from sklearn.model_selection import train_test_split\n",
    "from sklearn.ensemble import RandomForestClassifier\n",
    "from sklearn.metrics import accuracy_score, confusion_matrix, classification_report\n",
    "import seaborn as sns\n",
    "import matplotlib.pyplot as plt\n",
    "\n",
    "# Load the new dataset from the file path\n",
    "# Make sure the file 'air pollution dataset.csv' is in the right folder\n",
    "file_path = 'air pollution dataset.csv'\n",
    "df_new = pd.read_csv(file_path)\n",
    "\n",
    "print(\"New dataset loaded successfully.\")\n",
    "print(\"\\nDataset Info:\")\n",
    "df_new.info()\n",
    "\n",
    "print(\"\\nFirst 5 rows:\")\n",
    "df_new.head()"
   ]
  },
  {
   "cell_type": "code",
   "execution_count": 7,
   "id": "8403bd9f",
   "metadata": {},
   "outputs": [
    {
     "name": "stdout",
     "output_type": "stream",
     "text": [
      "Missing values per column:\n",
      "Country               427\n",
      "City                    0\n",
      "AQI Value               0\n",
      "AQI Category            0\n",
      "CO AQI Value            0\n",
      "CO AQI Category         0\n",
      "Ozone AQI Value         0\n",
      "Ozone AQI Category      0\n",
      "NO2 AQI Value           0\n",
      "NO2 AQI Category        0\n",
      "PM2.5 AQI Value         0\n",
      "PM2.5 AQI Category      0\n",
      "newCountry              0\n",
      "dtype: int64\n",
      "\n",
      "Cleaned column names:\n",
      "Index(['Country', 'City', 'AQI_Value', 'AQI_Category', 'CO_AQI_Value',\n",
      "       'CO_AQI_Category', 'Ozone_AQI_Value', 'Ozone_AQI_Category',\n",
      "       'NO2_AQI_Value', 'NO2_AQI_Category', 'PM2.5_AQI_Value',\n",
      "       'PM2.5_AQI_Category', 'newCountry'],\n",
      "      dtype='object')\n"
     ]
    }
   ],
   "source": [
    "# Cell 2: Data Cleaning and Preparation\n",
    "\n",
    "# Let's check for any missing values\n",
    "print(\"Missing values per column:\")\n",
    "print(df_new.isnull().sum())\n",
    "\n",
    "# It looks like the data is clean, which is great!\n",
    "\n",
    "# The column names have spaces, which can be tricky. Let's replace spaces with underscores.\n",
    "df_new.columns = df_new.columns.str.replace(' ', '_')\n",
    "\n",
    "print(\"\\nCleaned column names:\")\n",
    "print(df_new.columns)"
   ]
  },
  {
   "cell_type": "code",
   "execution_count": 8,
   "id": "879d44fc",
   "metadata": {},
   "outputs": [
    {
     "name": "stdout",
     "output_type": "stream",
     "text": [
      "Features (X):\n",
      "   AQI_Value  CO_AQI_Value  Ozone_AQI_Value  NO2_AQI_Value  PM2.5_AQI_Value\n",
      "0         51             1               36              0               51\n",
      "1         41             1                5              1               41\n",
      "2         66             1               39              2               66\n",
      "3         34             1               34              0               20\n",
      "4         22             0               22              0                6\n",
      "\n",
      "Target (y):\n",
      "0    Moderate\n",
      "1        Good\n",
      "2    Moderate\n",
      "3        Good\n",
      "4        Good\n",
      "Name: AQI_Category, dtype: object\n"
     ]
    }
   ],
   "source": [
    "# Cell 3: Feature and Target Selection\n",
    "\n",
    "# Our features (X) will be the numerical AQI values for each pollutant.\n",
    "features = ['AQI_Value', 'CO_AQI_Value', 'Ozone_AQI_Value', 'NO2_AQI_Value', 'PM2.5_AQI_Value']\n",
    "X = df_new[features]\n",
    "\n",
    "# Our target (y) is the overall AQI Category.\n",
    "y = df_new['AQI_Category']\n",
    "\n",
    "print(\"Features (X):\")\n",
    "print(X.head())\n",
    "\n",
    "print(\"\\nTarget (y):\")\n",
    "print(y.head())"
   ]
  },
  {
   "cell_type": "code",
   "execution_count": 9,
   "id": "bec25521",
   "metadata": {},
   "outputs": [
    {
     "name": "stdout",
     "output_type": "stream",
     "text": [
      "Training set shape: (18770, 5)\n",
      "Testing set shape: (4693, 5)\n"
     ]
    }
   ],
   "source": [
    "# Cell 4: Split Data into Training and Testing Sets\n",
    "\n",
    "# We'll use 80% of the data for training and 20% for testing.\n",
    "X_train, X_test, y_train, y_test = train_test_split(X, y, test_size=0.2, random_state=42, stratify=y)\n",
    "# 'stratify=y' ensures the proportion of categories is the same in train and test sets.\n",
    "\n",
    "print(f\"Training set shape: {X_train.shape}\")\n",
    "print(f\"Testing set shape: {X_test.shape}\")"
   ]
  },
  {
   "cell_type": "code",
   "execution_count": 10,
   "id": "bb2dcda8",
   "metadata": {},
   "outputs": [
    {
     "name": "stdout",
     "output_type": "stream",
     "text": [
      "Training the Random Forest model...\n",
      "Model training complete.\n"
     ]
    }
   ],
   "source": [
    "# Cell 5: Build and Train a Random Forest Classifier\n",
    "\n",
    "# Create an instance of the Random Forest Classifier\n",
    "# n_estimators=100 means it will build 100 decision trees.\n",
    "model_rf = RandomForestClassifier(n_estimators=100, random_state=42)\n",
    "\n",
    "# Train the model on our training data\n",
    "print(\"Training the Random Forest model...\")\n",
    "model_rf.fit(X_train, y_train)\n",
    "print(\"Model training complete.\")"
   ]
  },
  {
   "cell_type": "code",
   "execution_count": 11,
   "id": "e4ab68f3",
   "metadata": {},
   "outputs": [
    {
     "name": "stdout",
     "output_type": "stream",
     "text": [
      "Model Accuracy: 100.00%\n",
      "\n",
      "Classification Report:\n",
      "                                precision    recall  f1-score   support\n",
      "\n",
      "                          Good       1.00      1.00      1.00      1987\n",
      "                     Hazardous       1.00      1.00      1.00        38\n",
      "                      Moderate       1.00      1.00      1.00      1846\n",
      "                     Unhealthy       1.00      1.00      1.00       446\n",
      "Unhealthy for Sensitive Groups       1.00      1.00      1.00       318\n",
      "                Very Unhealthy       1.00      1.00      1.00        58\n",
      "\n",
      "                      accuracy                           1.00      4693\n",
      "                     macro avg       1.00      1.00      1.00      4693\n",
      "                  weighted avg       1.00      1.00      1.00      4693\n",
      "\n",
      "\n",
      "Confusion Matrix:\n"
     ]
    },
    {
     "data": {
      "image/png": "[encoded data removed]",
      "text/plain": [
       "<Figure size 1000x700 with 2 Axes>"
      ]
     },
     "metadata": {},
     "output_type": "display_data"
    }
   ],
   "source": [
    "# Cell 6: Evaluate the Model\n",
    "\n",
    "# Make predictions on the test data\n",
    "y_pred = model_rf.predict(X_test)\n",
    "\n",
    "# 1. Calculate Accuracy\n",
    "accuracy = accuracy_score(y_test, y_pred)\n",
    "print(f\"Model Accuracy: {accuracy * 100:.2f}%\")\n",
    "\n",
    "# 2. Print a detailed Classification Report\n",
    "print(\"\\nClassification Report:\")\n",
    "print(classification_report(y_test, y_pred))\n",
    "\n",
    "# 3. Visualize the Confusion Matrix\n",
    "print(\"\\nConfusion Matrix:\")\n",
    "cm = confusion_matrix(y_test, y_pred)\n",
    "# Get the class labels in the correct order\n",
    "class_labels = model_rf.classes_\n",
    "\n",
    "plt.figure(figsize=(10, 7))\n",
    "sns.heatmap(cm, annot=True, fmt='d', cmap='Blues', xticklabels=class_labels, yticklabels=class_labels)\n",
    "plt.title('Confusion Matrix')\n",
    "plt.ylabel('Actual Category')\n",
    "plt.xlabel('Predicted Category')\n",
    "plt.show()"
   ]
  },
  {
   "cell_type": "code",
   "execution_count": 12,
   "id": "ed4c6746",
   "metadata": {},
   "outputs": [
    {
     "name": "stdout",
     "output_type": "stream",
     "text": [
      "Feature Importances:\n",
      "           feature  importance\n",
      "0        AQI_Value    0.523843\n",
      "4  PM2.5_AQI_Value    0.401383\n",
      "1     CO_AQI_Value    0.038681\n",
      "2  Ozone_AQI_Value    0.034467\n",
      "3    NO2_AQI_Value    0.001626\n"
     ]
    },
    {
     "name": "stderr",
     "output_type": "stream",
     "text": [
      "C:\\Users\\Purvanshu\\AppData\\Local\\Temp\\ipykernel_17080\\774476869.py:13: FutureWarning: \n",
      "\n",
      "Passing `palette` without assigning `hue` is deprecated and will be removed in v0.14.0. Assign the `y` variable to `hue` and set `legend=False` for the same effect.\n",
      "\n",
      "  sns.barplot(x='importance', y='feature', data=feature_importance_df, palette='viridis')\n"
     ]
    },
    {
     "data": {
      "image/png": "[encoded data removed]",
      "text/plain": [
       "<Figure size 1000x500 with 1 Axes>"
      ]
     },
     "metadata": {},
     "output_type": "display_data"
    }
   ],
   "source": [
    "# Cell 7: Feature Importance\n",
    "\n",
    "# Get feature importances from the trained model\n",
    "importances = model_rf.feature_importances_\n",
    "feature_importance_df = pd.DataFrame({'feature': features, 'importance': importances})\n",
    "feature_importance_df = feature_importance_df.sort_values(by='importance', ascending=False)\n",
    "\n",
    "print(\"Feature Importances:\")\n",
    "print(feature_importance_df)\n",
    "\n",
    "# Plot the feature importances\n",
    "plt.figure(figsize=(10, 5))\n",
    "sns.barplot(x='importance', y='feature', data=feature_importance_df, palette='viridis')\n",
    "plt.title('Feature Importance for Predicting AQI Category')\n",
    "plt.show()"
   ]
  },
  {
   "cell_type": "code",
   "execution_count": 13,
   "id": "99c54188",
   "metadata": {},
   "outputs": [
    {
     "name": "stdout",
     "output_type": "stream",
     "text": [
      "--- Hypothetical Scenario ---\n",
      "Pollutant Values:\n",
      "   AQI_Value  CO_AQI_Value  Ozone_AQI_Value  NO2_AQI_Value  PM2.5_AQI_Value\n",
      "0        155             5              155             12              140\n",
      "\n",
      "Predicted AQI Category: 'Unhealthy'\n"
     ]
    }
   ],
   "source": [
    "# Cell 8: Make a Prediction on New, Hypothetical Data\n",
    "\n",
    "# Create a new DataFrame with some hypothetical pollutant values\n",
    "# This represents a scenario with high Ozone and PM2.5\n",
    "hypothetical_data = pd.DataFrame({\n",
    "    'AQI_Value': [155],\n",
    "    'CO_AQI_Value': [5],\n",
    "    'Ozone_AQI_Value': [155],\n",
    "    'NO2_AQI_Value': [12],\n",
    "    'PM2.5_AQI_Value': [140]\n",
    "})\n",
    "\n",
    "# Reorder columns to match the training data order\n",
    "hypothetical_data = hypothetical_data[features]\n",
    "\n",
    "# Use our trained model to predict the AQI category\n",
    "predicted_category = model_rf.predict(hypothetical_data)\n",
    "\n",
    "print(\"--- Hypothetical Scenario ---\")\n",
    "print(\"Pollutant Values:\")\n",
    "print(hypothetical_data)\n",
    "print(f\"\\nPredicted AQI Category: '{predicted_category[0]}'\")"
   ]
  },
  {
   "cell_type": "code",
   "execution_count": 14,
   "id": "9d22f911",
   "metadata": {},
   "outputs": [
    {
     "name": "stdout",
     "output_type": "stream",
     "text": [
      "--- Building a new model without the 'AQI_Value' feature ---\n",
      "\n",
      "New Model Accuracy (without AQI_Value): 99.89%\n",
      "\n",
      "New Feature Importances:\n",
      "           feature  importance\n",
      "3  PM2.5_AQI_Value    0.836251\n",
      "1  Ozone_AQI_Value    0.081643\n",
      "0     CO_AQI_Value    0.073411\n",
      "2    NO2_AQI_Value    0.008696\n"
     ]
    }
   ],
   "source": [
    "# Cell 9: Building a More Realistic Model (Without the main AQI_Value)\n",
    "\n",
    "print(\"--- Building a new model without the 'AQI_Value' feature ---\")\n",
    "\n",
    "# Our new feature set excludes the main AQI_Value\n",
    "new_features = ['CO_AQI_Value', 'Ozone_AQI_Value', 'NO2_AQI_Value', 'PM2.5_AQI_Value']\n",
    "X_new = df_new[new_features]\n",
    "y_new = df_new['AQI_Category']\n",
    "\n",
    "# Split the new data\n",
    "X_train_new, X_test_new, y_train_new, y_test_new = train_test_split(X_new, y_new, test_size=0.2, random_state=42, stratify=y_new)\n",
    "\n",
    "# Create and train a new Random Forest model\n",
    "model_rf_new = RandomForestClassifier(n_estimators=100, random_state=42)\n",
    "model_rf_new.fit(X_train_new, y_train_new)\n",
    "\n",
    "# Evaluate the new model\n",
    "y_pred_new = model_rf_new.predict(X_test_new)\n",
    "accuracy_new = accuracy_score(y_test_new, y_pred_new)\n",
    "print(f\"\\nNew Model Accuracy (without AQI_Value): {accuracy_new * 100:.2f}%\")\n",
    "\n",
    "# Check the new feature importances\n",
    "importances_new = model_rf_new.feature_importances_\n",
    "feature_importance_df_new = pd.DataFrame({'feature': new_features, 'importance': importances_new})\n",
    "feature_importance_df_new = feature_importance_df_new.sort_values(by='importance', ascending=False)\n",
    "\n",
    "print(\"\\nNew Feature Importances:\")\n",
    "print(feature_importance_df_new)"
   ]
  },
  {
   "cell_type": "code",
   "execution_count": null,
   "id": "10303463",
   "metadata": {},
   "outputs": [],
   "source": []
  }
 ],
 "metadata": {
  "kernelspec": {
   "display_name": "Python 3",
   "language": "python",
   "name": "python3"
  },
  "language_info": {
   "codemirror_mode": {
    "name": "ipython",
    "version": 3
   },
   "file_extension": ".py",
   "mimetype": "text/x-python",
   "name": "python",
   "nbconvert_exporter": "python",
   "pygments_lexer": "ipython3",
   "version": "3.11.9"
  }
 },
 "nbformat": 4,
 "nbformat_minor": 5
}
